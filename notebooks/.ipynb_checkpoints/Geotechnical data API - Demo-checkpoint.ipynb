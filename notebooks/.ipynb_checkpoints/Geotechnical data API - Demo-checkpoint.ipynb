{
 "cells": [
  {
   "cell_type": "markdown",
   "metadata": {},
   "source": [
    "# Geotechnical data API - Demo\n",
    "\n",
    "This notebook demonstrates how the soildata app of ```owimetadatabase``` can be used to retrieve geotechnical data through the API."
   ]
  },
  {
   "cell_type": "markdown",
   "metadata": {},
   "source": [
    "## Library imports\n",
    "\n",
    "We need to import a few essential libraries first:\n",
    "\n",
    "   - ```pandas``` for manipulation of tabular data\n",
    "   - ```requests``` to send and receive HTTP requests\n",
    "   - ```json``` to handle the JSON data returned by the API\n",
    "   - ```os``` to retrieve environment variables\n",
    "   - ```plotly``` for plotting data"
   ]
  },
  {
   "cell_type": "code",
   "execution_count": null,
   "metadata": {},
   "outputs": [],
   "source": [
    "import pandas as pd\n",
    "import requests\n",
    "import json\n",
    "import os\n",
    "import plotly.express as px"
   ]
  },
  {
   "cell_type": "markdown",
   "metadata": {},
   "source": [
    "For geotechnical data manipulation, the ```groundhog``` library is used. The modules for soil profiles and PCPT testing are loaded."
   ]
  },
  {
   "cell_type": "code",
   "execution_count": null,
   "metadata": {},
   "outputs": [],
   "source": [
    "from groundhog.general import soilprofile\n",
    "from groundhog.siteinvestigation.insitutests.pcpt_processing import PCPTProcessing"
   ]
  },
  {
   "cell_type": "markdown",
   "metadata": {},
   "source": [
    "## API access setup\n",
    "\n",
    "### Authentication\n",
    "\n",
    "The API is only accessible for authenticated users. To get a user account, send an email to bruno.stuyts@vub.be with your name, affiliation and use case.\n",
    "\n",
    "Users will receive an API token which needs to be stored as the environment variable ```OWIMETA_TOKEN```. We can check that the environment variable is not empty. In case of problems, the try refreshing the environment variables before running Jupyter. Alternatively, you can just assign the value of your token to ```TOKEN``` (not recommended for security reasons)."
   ]
  },
  {
   "cell_type": "code",
   "execution_count": null,
   "metadata": {},
   "outputs": [],
   "source": [
    "TOKEN = os.getenv('OWIMETA_TOKEN')\n",
    "TOKEN"
   ]
  },
  {
   "cell_type": "markdown",
   "metadata": {},
   "source": [
    "We can set up the header of the API requests as follows:"
   ]
  },
  {
   "cell_type": "code",
   "execution_count": null,
   "metadata": {},
   "outputs": [],
   "source": [
    "head = {'Authorization': 'Token %s' % (TOKEN)}"
   ]
  },
  {
   "cell_type": "markdown",
   "metadata": {},
   "source": [
    "With this header, we can authenticate all requests."
   ]
  },
  {
   "cell_type": "markdown",
   "metadata": {},
   "source": [
    "### URL prefixes\n",
    "\n",
    "The API base URLs for the ```locations``` and ```soildata``` applications can be assigned to the ```LOCATION_URL_PREFIX``` and ```SOIL_URL_PREFIX``` variables. This avoids having to type the full URL each time we make a request."
   ]
  },
  {
   "cell_type": "code",
   "execution_count": null,
   "metadata": {},
   "outputs": [],
   "source": [
    "LOCATION_URL_PREFIX = \"https://qmi9esf0b3.execute-api.eu-central-1.amazonaws.com/staging/api/v1/locations\"\n",
    "SOIL_URL_PREFIX = \"https://qmi9esf0b3.execute-api.eu-central-1.amazonaws.com/staging/api/v1/soildata\""
   ]
  },
  {
   "cell_type": "markdown",
   "metadata": {},
   "source": [
    "## Survey campaigns\n",
    "\n",
    "Retrieving which survey campaigns happened on a project is done through the ```/soildata/surveycampaign/``` endpoint. The ```projectsite``` URL parameter allows filtering based on project site. Here, we can retrieve the geotechnical surveys performed at the Borssele I site."
   ]
  },
  {
   "cell_type": "code",
   "execution_count": null,
   "metadata": {},
   "outputs": [],
   "source": [
    "resp = requests.get('%s/surveycampaign/' % SOIL_URL_PREFIX, headers=head, params=dict(projectsite='Borssele I'))\n",
    "resp"
   ]
  },
  {
   "cell_type": "markdown",
   "metadata": {},
   "source": [
    "The response also contains text in the body. This text can be retrieved using the ```text``` attribute. This contains JSON with the records returned from the API. A list of records is returned in all cases. To allow faster manipulation, we can load the data into a Pandas dataframe."
   ]
  },
  {
   "cell_type": "code",
   "execution_count": null,
   "metadata": {},
   "outputs": [],
   "source": [
    "campaigns_df = pd.DataFrame(json.loads(resp.text))\n",
    "campaigns_df"
   ]
  },
  {
   "cell_type": "markdown",
   "metadata": {},
   "source": [
    "We can also retrieve a single survey campaign using the URL parameter ```campaign```. The API call is then performed as follows (example for retrieving data of the borehole investigation)."
   ]
  },
  {
   "cell_type": "code",
   "execution_count": null,
   "metadata": {},
   "outputs": [],
   "source": [
    "resp = requests.get('%s/surveycampaign/' % SOIL_URL_PREFIX, headers=head,\n",
    "                    params=dict(projectsite='Borssele I', campaign=\"Borehole investigation\"))\n",
    "campaign_df = pd.DataFrame(json.loads(resp.text))\n",
    "campaign_df"
   ]
  },
  {
   "cell_type": "markdown",
   "metadata": {},
   "source": [
    "## Borehole locations\n",
    "\n",
    "Determining where the boreholes are located is an essential step in determining the geotechnical data coverage. This data can be retrieved from the ```/soildata/testlocation/``` endpoint. Filtering per project site and survey campaign is possible."
   ]
  },
  {
   "cell_type": "code",
   "execution_count": null,
   "metadata": {},
   "outputs": [],
   "source": [
    "resp = requests.get('%s/testlocation/' % SOIL_URL_PREFIX, headers=head,\n",
    "                    params=dict(projectsite='Borssele I', campaign=\"Borehole investigation\"))\n",
    "testlocations_df = pd.DataFrame(json.loads(resp.text))\n",
    "testlocations_df"
   ]
  },
  {
   "cell_type": "markdown",
   "metadata": {},
   "source": [
    "The geographical position of these borehole locations can be visualised using Plotly."
   ]
  },
  {
   "cell_type": "code",
   "execution_count": null,
   "metadata": {},
   "outputs": [],
   "source": [
    "fig = px.scatter_mapbox(testlocations_df, lat='northing', lon='easting', hover_name='title',\n",
    "    hover_data=['title'], zoom=10, height=500)\n",
    "fig.update_layout(mapbox_style='open-street-map')\n",
    "fig.show()"
   ]
  },
  {
   "cell_type": "markdown",
   "metadata": {},
   "source": [
    "An API endpoint (```/soildata/testlocationproximity/```) for retrieving test locations in the vicinity of a central point is also available. We can retrieve the test locations in a radius of 500m around BH-WFS1-2A."
   ]
  },
  {
   "cell_type": "code",
   "execution_count": null,
   "metadata": {},
   "outputs": [],
   "source": [
    "resp = requests.get('%s/testlocationproximity/' % SOIL_URL_PREFIX, headers=head,\n",
    "                    params=dict(latitude=51.74374, longitude=3.040028, offset=0.5))\n",
    "proximitylocations_df = pd.DataFrame(json.loads(resp.text))\n",
    "proximitylocations_df"
   ]
  },
  {
   "cell_type": "markdown",
   "metadata": {},
   "source": [
    "We can see that a geotechnical test was also performed in the vicinity of the tested location during the seafloor CPT investigation."
   ]
  },
  {
   "cell_type": "markdown",
   "metadata": {},
   "source": [
    "Furthermore, test locations in the vicinity of a profile line can be retrieved (```/soildata/testlocationprofile``` endpoint). We need to specify latitude and longitude of the start and end point and the width of the search band (in meters). We can create a profile from location BH-WFS1-2A to location BH-WFS1-6 (NW-SE profile) with a 500m search band on either side of the profile line."
   ]
  },
  {
   "cell_type": "code",
   "execution_count": null,
   "metadata": {},
   "outputs": [],
   "source": [
    "resp = requests.get('%s/testlocationprofile/' % SOIL_URL_PREFIX, headers=head,\n",
    "                    params=dict(lat1=51.74374, lon1=3.040028, lat2=51.70409, lon2=3.122349, offset=500))\n",
    "profilelocations_df = pd.DataFrame(json.loads(resp.text))"
   ]
  },
  {
   "cell_type": "markdown",
   "metadata": {},
   "source": [
    "We can also plot these locations. Their position along the profile is obvious."
   ]
  },
  {
   "cell_type": "code",
   "execution_count": null,
   "metadata": {},
   "outputs": [],
   "source": [
    "fig = px.scatter_mapbox(profilelocations_df, lat='northing', lon='easting', hover_name='title',\n",
    "    hover_data=['title'], zoom=10, height=500)\n",
    "fig.update_layout(mapbox_style='open-street-map')\n",
    "fig.show()"
   ]
  },
  {
   "cell_type": "markdown",
   "metadata": {},
   "source": [
    "## In-situ test data\n",
    "\n",
    "In-situ testing returns valuable data on the geotechnical conditions at a site and in-situ data is stored in ```owimetadatabase``` in unstructured JSON fields to allow rapid retrieval of relevant data. The data has been uploaded using a standard format for common column names (e.g. ```'z [m]'``` for depth below mudline, ```'qc [MPa]'``` for cone tip resistance, ...). This allows rapid processing of the data once retrieved from the database.\n",
    "\n",
    "### In-situ test types\n",
    "\n",
    "We first need to know which in-situ test types exist in the database. A call to the ```/soildata/insitutesttype/``` endpoint exposes this information."
   ]
  },
  {
   "cell_type": "code",
   "execution_count": null,
   "metadata": {},
   "outputs": [],
   "source": [
    "resp = requests.get('%s/insitutesttype/' % SOIL_URL_PREFIX, headers=head)\n",
    "insitutesttypes_df = pd.DataFrame(json.loads(resp.text))\n",
    "insitutesttypes_df"
   ]
  },
  {
   "cell_type": "markdown",
   "metadata": {},
   "source": [
    "### In-situ test summary data\n",
    "\n",
    "Retrieving full data can make the HTTP requests time out if data is requested for a large number of in-situ tests. To still allow metadata on the in-situ tests to be retrieved, the endpoint ```/soildata/insitutestsummary/``` is available. This only retrieves the metadata and not the detailed test results. A listing of all seabed can be retrieved for example. URL parameters can be used for filtering."
   ]
  },
  {
   "cell_type": "code",
   "execution_count": null,
   "metadata": {},
   "outputs": [],
   "source": [
    "resp = requests.get('%s/insitutestsummary/' % SOIL_URL_PREFIX, headers=head,\n",
    "                    params=dict(projectsite='Borssele I', testtype=\"Seabed PCPT\"))\n",
    "insitutestsummary_df = pd.DataFrame(json.loads(resp.text))\n",
    "insitutestsummary_df.head()"
   ]
  },
  {
   "cell_type": "markdown",
   "metadata": {},
   "source": [
    "### In-situ test detailed data\n",
    "\n",
    "To retrieve the detailed test data, an API call to the ```/soildata/insitutestdetail/``` can be made. To prevent timeouts, a separate call can be made for each location. For example, retrieving the downhole CPT data for location BH-WFS1-2A happens as follows:"
   ]
  },
  {
   "cell_type": "code",
   "execution_count": null,
   "metadata": {},
   "outputs": [],
   "source": [
    "resp = requests.get('%s/insitutestdetail/' % SOIL_URL_PREFIX, headers=head,\n",
    "                    params=dict(projectsite='Borssele I', location=\"BH-WFS1-2A\", testtype=\"Downhole PCPT\"))\n",
    "bhwfs12a_insitutest_df = pd.DataFrame(json.loads(resp.text))\n",
    "bhwfs12a_insitutest_df"
   ]
  },
  {
   "cell_type": "markdown",
   "metadata": {},
   "source": [
    "The CPT data itself is contained in the ```rawdata``` attribute. This is Pandas-compatible JSON, so we can load this into a dataframe:"
   ]
  },
  {
   "cell_type": "code",
   "execution_count": null,
   "metadata": {},
   "outputs": [],
   "source": [
    "bhwfs12a_insitutest_rawdata = pd.DataFrame(bhwfs12a_insitutest_df['rawdata'].iloc[0])\n",
    "bhwfs12a_insitutest_rawdata.head()"
   ]
  },
  {
   "cell_type": "markdown",
   "metadata": {},
   "source": [
    "This CPT data can be loaded into a ```groundhog``` ```PCPTProcessing``` object for further processing:"
   ]
  },
  {
   "cell_type": "code",
   "execution_count": null,
   "metadata": {},
   "outputs": [],
   "source": [
    "bhwfs12a_insitutest_cpt = PCPTProcessing(title=\"BH-WFS1-2A\")\n",
    "bhwfs12a_insitutest_cpt.load_pandas(bhwfs12a_insitutest_rawdata, push_key=\"Push\")"
   ]
  },
  {
   "cell_type": "markdown",
   "metadata": {},
   "source": [
    "The CPT data can be plotted:"
   ]
  },
  {
   "cell_type": "code",
   "execution_count": null,
   "metadata": {},
   "outputs": [],
   "source": [
    "bhwfs12a_insitutest_cpt.plot_raw_pcpt(u2_range=(-0.5, 2.5), u2_tick=0.5)"
   ]
  },
  {
   "cell_type": "markdown",
   "metadata": {},
   "source": [
    "### Batch lab test data\n",
    "\n",
    "Batch lab test data is laboratory test data carried out in bulk, often on-board the site investigation vessel. The available test types can be retrieved with a call to the ```/soildata/batchlabtesttype/``` endpoint."
   ]
  },
  {
   "cell_type": "code",
   "execution_count": null,
   "metadata": {},
   "outputs": [],
   "source": [
    "resp = requests.get('%s/batchlabtesttype/' % SOIL_URL_PREFIX, headers=head)\n",
    "batchlabtesttypes_df = pd.DataFrame(json.loads(resp.text))\n",
    "batchlabtesttypes_df"
   ]
  },
  {
   "cell_type": "markdown",
   "metadata": {},
   "source": [
    "We can retrieve either summary (```/soildata/batchlabtestsummary/``` endpoint) or detailed (```/soildata/batchlabtestdetail/```) data. As an example, we can retrieve all water contents for location BH-WFS1-2A at the Borssele I offshore wind farm."
   ]
  },
  {
   "cell_type": "code",
   "execution_count": null,
   "metadata": {},
   "outputs": [],
   "source": [
    "resp = requests.get('%s/batchlabtestdetail/' % SOIL_URL_PREFIX, headers=head,\n",
    "                    params=dict(projectsite='Borssele I', location=\"BH-WFS1-2A\", testtype=\"Water content\"))\n",
    "bhwfs12a_batchlabtest_df = pd.DataFrame(json.loads(resp.text))\n",
    "bhwfs12a_batchlabtest_df"
   ]
  },
  {
   "cell_type": "markdown",
   "metadata": {},
   "source": [
    "The ```rawdata``` attribute contains the measurements in JSON format."
   ]
  },
  {
   "cell_type": "code",
   "execution_count": null,
   "metadata": {},
   "outputs": [],
   "source": [
    "bhwfs12a_batchlabtest_data = pd.DataFrame(bhwfs12a_batchlabtest_df['rawdata'].iloc[0])\n",
    "bhwfs12a_batchlabtest_data.head()"
   ]
  },
  {
   "cell_type": "markdown",
   "metadata": {},
   "source": [
    "## Sample test data\n",
    "\n",
    "Data from advanced laboratory tests is stored in the database in the ```sampletest``` table. The API can also be used to access this data.\n",
    "\n",
    "First, we can retrieve a listing of the samples on a project using a call to the ```/soildata/geotechnicalsample/``` endpoint."
   ]
  },
  {
   "cell_type": "code",
   "execution_count": null,
   "metadata": {},
   "outputs": [],
   "source": [
    "resp = requests.get('%s/geotechnicalsample/' % SOIL_URL_PREFIX, headers=head, params=dict(projectsite=\"Borssele I\"))\n",
    "geotechnicalsample_df = pd.DataFrame(json.loads(resp.text))\n",
    "geotechnicalsample_df.head()"
   ]
  },
  {
   "cell_type": "markdown",
   "metadata": {},
   "source": [
    "The sample test types can be retrieved using a call to the ```/soildata/sampletesttype/``` endpoint:"
   ]
  },
  {
   "cell_type": "code",
   "execution_count": null,
   "metadata": {},
   "outputs": [],
   "source": [
    "resp = requests.get('%s/sampletesttype/' % SOIL_URL_PREFIX, headers=head)\n",
    "sampletesttypes_df = pd.DataFrame(json.loads(resp.text))\n",
    "sampletesttypes_df"
   ]
  },
  {
   "cell_type": "markdown",
   "metadata": {},
   "source": [
    "As an example, we can retrieve the bender element test results on sample W18 using a call to the ```/soildata/sampletestdetail/``` endpoint:"
   ]
  },
  {
   "cell_type": "code",
   "execution_count": null,
   "metadata": {},
   "outputs": [],
   "source": [
    "resp = requests.get('%s/sampletestdetail/' % SOIL_URL_PREFIX, headers=head,\n",
    "                    params=dict(projectsite=\"Borssele I\", sample=\"W18\", testtype=\"Bender element\"))\n",
    "benderelement_W18_df = pd.DataFrame(json.loads(resp.text))\n",
    "benderelement_W18_df.head()"
   ]
  },
  {
   "cell_type": "markdown",
   "metadata": {},
   "source": [
    "The test data is stored in the ```rawdata``` attribute."
   ]
  },
  {
   "cell_type": "code",
   "execution_count": null,
   "metadata": {},
   "outputs": [],
   "source": [
    "benderelement_W18_df['rawdata'].iloc[0]"
   ]
  },
  {
   "cell_type": "markdown",
   "metadata": {},
   "source": [
    "The measured value of small-strain shear modulus $ G_{max} $ can be retrieved as follows. This is the value after the isotropic consolidation stage."
   ]
  },
  {
   "cell_type": "code",
   "execution_count": null,
   "metadata": {},
   "outputs": [],
   "source": [
    "benderelement_W18_df['rawdata'].iloc[0]['Gmax selected [MPa]']"
   ]
  },
  {
   "cell_type": "markdown",
   "metadata": {},
   "source": [
    "## Soil profiles\n",
    "\n",
    "Soil profile retrieval is relatively straightforward using the API. To prevent timeout API requests, a ```/soildata/soilprofilesummary/``` and ```/soildata/soilprofiledetail/``` are provided for metadata-only and full data retrieval respectively.\n",
    "\n",
    "First, we can retrieve the metadata for all soil profiles at the Borssele I site:"
   ]
  },
  {
   "cell_type": "code",
   "execution_count": null,
   "metadata": {},
   "outputs": [],
   "source": [
    "resp = requests.get('%s/soilprofilesummary/' % SOIL_URL_PREFIX, headers=head,\n",
    "                    params=dict(projectsite=\"Borssele I\"))\n",
    "soilprofile_summary_df = pd.DataFrame(json.loads(resp.text))\n",
    "soilprofile_summary_df"
   ]
  },
  {
   "cell_type": "markdown",
   "metadata": {},
   "source": [
    "We can create a soil profile for the BH-WFS1-2A location:"
   ]
  },
  {
   "cell_type": "code",
   "execution_count": null,
   "metadata": {},
   "outputs": [],
   "source": [
    "resp = requests.get('%s/soilprofiledetail/' % SOIL_URL_PREFIX, headers=head,\n",
    "                    params=dict(projectsite=\"Borssele I\", location=\"BH-WFS1-2A\"))\n",
    "soilprofile_detail_df = pd.DataFrame(json.loads(resp.text))\n",
    "soilprofile_detail_df"
   ]
  },
  {
   "cell_type": "markdown",
   "metadata": {},
   "source": [
    "The layering is defined in the ```soillayer_set``` attribute. We can convert this into a Pandas dataframe."
   ]
  },
  {
   "cell_type": "code",
   "execution_count": null,
   "metadata": {},
   "outputs": [],
   "source": [
    "bhwfs12a_boreholelog = pd.DataFrame(soilprofile_detail_df['soillayer_set'].iloc[0]).sort_values('start_depth')\n",
    "bhwfs12a_boreholelog"
   ]
  },
  {
   "cell_type": "markdown",
   "metadata": {},
   "source": [
    "We can import this soil profile into a ```groundhog``` ```SoilProfile``` object. In order to do this, we first need to rename the ```start_depth``` and ```end_depth``` columns to ```Depth from [m]``` and ```Depth to [m]```. The column ```soiltype_name``` can be renamed to ```Soil type```."
   ]
  },
  {
   "cell_type": "code",
   "execution_count": null,
   "metadata": {},
   "outputs": [],
   "source": [
    "bhwfs12a_boreholelog.rename(\n",
    "    columns={'start_depth': 'Depth from [m]', 'end_depth': 'Depth to [m]', 'soiltype_name': 'Soil type'},\n",
    "    inplace=True)"
   ]
  },
  {
   "cell_type": "markdown",
   "metadata": {},
   "source": [
    "We can then create a ```SoilProfile``` object from the dataframe:"
   ]
  },
  {
   "cell_type": "code",
   "execution_count": null,
   "metadata": {},
   "outputs": [],
   "source": [
    "bhwfs12a_soilprofile = soilprofile.profile_from_dataframe(bhwfs12a_boreholelog)\n",
    "bhwfs12a_soilprofile"
   ]
  },
  {
   "cell_type": "markdown",
   "metadata": {},
   "source": [
    "We can plot a mini-log of this profile. We need to define a mapping for the soil type:"
   ]
  },
  {
   "cell_type": "code",
   "execution_count": null,
   "metadata": {},
   "outputs": [],
   "source": [
    "soiltypecolors = {\n",
    "    \"SAND\": 'yellow',\n",
    "    \"CLAY\": 'brown',\n",
    "    \"Clayey SAND\": 'orange',\n",
    "    \"Silty SAND\": '#fcba03'\n",
    "}\n",
    "\n",
    "bhwfs12a_minilog = bhwfs12a_soilprofile.plot_profile(parameters=((),), fillcolordict=soiltypecolors)"
   ]
  },
  {
   "cell_type": "code",
   "execution_count": null,
   "metadata": {},
   "outputs": [],
   "source": []
  }
 ],
 "metadata": {
  "hide_input": false,
  "kernelspec": {
   "display_name": "Python 3",
   "language": "python",
   "name": "python3"
  },
  "language_info": {
   "codemirror_mode": {
    "name": "ipython",
    "version": 3
   },
   "file_extension": ".py",
   "mimetype": "text/x-python",
   "name": "python",
   "nbconvert_exporter": "python",
   "pygments_lexer": "ipython3",
   "version": "3.7.6"
  },
  "toc": {
   "base_numbering": 1,
   "nav_menu": {},
   "number_sections": true,
   "sideBar": true,
   "skip_h1_title": true,
   "title_cell": "Table of Contents",
   "title_sidebar": "Contents",
   "toc_cell": false,
   "toc_position": {},
   "toc_section_display": true,
   "toc_window_display": true
  }
 },
 "nbformat": 4,
 "nbformat_minor": 4
}
