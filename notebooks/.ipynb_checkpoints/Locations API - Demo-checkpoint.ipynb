{
 "cells": [
  {
   "cell_type": "markdown",
   "metadata": {},
   "source": [
    "# Locations API - Demo\n",
    "\n",
    "This notebook demonstrates how the locations app of ```owimetadatabase``` can be used to retrieve project and asset location data through the API."
   ]
  },
  {
   "cell_type": "markdown",
   "metadata": {},
   "source": [
    "## Library imports\n",
    "\n",
    "We need to import a few essential libraries first:\n",
    "\n",
    "   - ```pandas``` for manipulation of tabular data\n",
    "   - ```requests``` to send and receive HTTP requests\n",
    "   - ```json``` to handle the JSON data returned by the API\n",
    "   - ```os``` to retrieve environment variables"
   ]
  },
  {
   "cell_type": "code",
   "execution_count": null,
   "metadata": {},
   "outputs": [],
   "source": [
    "import pandas as pd\n",
    "import requests\n",
    "import json\n",
    "import os"
   ]
  },
  {
   "cell_type": "markdown",
   "metadata": {},
   "source": [
    "## API access setup\n",
    "\n",
    "### Authentication\n",
    "\n",
    "The API is only accessible for authenticated users. To get a user account, send an email to bruno.stuyts@vub.be with your name, affiliation and use case.\n",
    "\n",
    "Users will receive an API token which needs to be stored as the environment variable ```OWIMETA_TOKEN```. We can check that the environment variable is not empty. In case of problems, the try refreshing the environment variables before running Jupyter. Alternatively, you can just assign the value of your token to ```TOKEN``` (not recommended for security reasons)."
   ]
  },
  {
   "cell_type": "code",
   "execution_count": null,
   "metadata": {},
   "outputs": [],
   "source": [
    "TOKEN = os.getenv('OWIMETA_TOKEN')\n",
    "TOKEN"
   ]
  },
  {
   "cell_type": "markdown",
   "metadata": {},
   "source": [
    "We can set up the header of the API requests as follows:"
   ]
  },
  {
   "cell_type": "code",
   "execution_count": null,
   "metadata": {},
   "outputs": [],
   "source": [
    "head = {'Authorization': 'Token %s' % (TOKEN)}"
   ]
  },
  {
   "cell_type": "markdown",
   "metadata": {},
   "source": [
    "With this header, we can authenticate all requests."
   ]
  },
  {
   "cell_type": "markdown",
   "metadata": {},
   "source": [
    "### URL prefixes\n",
    "\n",
    "The API base URLs for the ```locations``` and ```soildata``` applications can be assigned to the ```LOCATION_URL_PREFIX``` and ```SOIL_URL_PREFIX``` variables. This avoids having to type the full URL each time we make a request."
   ]
  },
  {
   "cell_type": "code",
   "execution_count": null,
   "metadata": {},
   "outputs": [],
   "source": [
    "LOCATION_URL_PREFIX = \"https://owimetadatabase.owilab.be/api/v1/locations\"\n",
    "SOIL_URL_PREFIX = \"https://owimetadatabase.owilab.be/api/v1/soildata\""
   ]
  },
  {
   "cell_type": "markdown",
   "metadata": {},
   "source": [
    "## Projects\n",
    "\n",
    "We can retrieve the list of projects by making a GET request to the ```locations/projectsites/``` endpoint. A response is returned with a HTTP status code."
   ]
  },
  {
   "cell_type": "code",
   "execution_count": null,
   "metadata": {},
   "outputs": [],
   "source": [
    "resp = requests.get('%s/projectsites/' % LOCATION_URL_PREFIX, headers=head)\n",
    "resp"
   ]
  },
  {
   "cell_type": "markdown",
   "metadata": {},
   "source": [
    "The response also contains text in the body. This text can be retrieved using the ```text``` attribute. This contains JSON with the records returned from the API. A list of records is returned in all cases. To allow faster manipulation, we can load the data into a Pandas dataframe."
   ]
  },
  {
   "cell_type": "code",
   "execution_count": null,
   "metadata": {},
   "outputs": [],
   "source": [
    "projects_df = pd.DataFrame(json.loads(resp.text))\n",
    "projects_df"
   ]
  },
  {
   "cell_type": "markdown",
   "metadata": {},
   "source": [
    "The resulting dataframe can be used for further filtering, e.g. to retrieve all projects in the Borssele area:"
   ]
  },
  {
   "cell_type": "code",
   "execution_count": null,
   "metadata": {},
   "outputs": [],
   "source": [
    "projects_df[projects_df['title'].str.contains('Borssele')]"
   ]
  },
  {
   "cell_type": "markdown",
   "metadata": {},
   "source": [
    "We can also retrieve a single project site using the URL parameter ```projectsite```. The API call is then performed as follows:"
   ]
  },
  {
   "cell_type": "code",
   "execution_count": null,
   "metadata": {},
   "outputs": [],
   "source": [
    "resp = requests.get('%s/projectsites/' % LOCATION_URL_PREFIX, headers=head, params=dict(projectsite='Borssele I'))\n",
    "project_df = pd.DataFrame(json.loads(resp.text))\n",
    "project_df"
   ]
  },
  {
   "cell_type": "markdown",
   "metadata": {},
   "source": [
    "## Asset locations\n",
    "\n",
    "Currently, public-domain data on the exact foundation locations for the projects included in the database is not avaialable. Nevertheless, an API call to the ```locations/assetlocations/``` endpoint can be made."
   ]
  },
  {
   "cell_type": "code",
   "execution_count": null,
   "metadata": {},
   "outputs": [],
   "source": [
    "resp = requests.get('%s/assetlocations/' % LOCATION_URL_PREFIX, headers=head)\n",
    "locations_df = pd.DataFrame(json.loads(resp.text))\n",
    "locations_df"
   ]
  },
  {
   "cell_type": "markdown",
   "metadata": {},
   "source": [
    "As expected, this is an empty dataframe.\n",
    "\n",
    "Retrieval of all asset locations for the Borssele I offshore wind farm would happen as follows:"
   ]
  },
  {
   "cell_type": "code",
   "execution_count": null,
   "metadata": {},
   "outputs": [],
   "source": [
    "resp = requests.get('%s/assetlocations/' % LOCATION_URL_PREFIX, headers=head, params=dict(projectsite='Borssele I'))\n",
    "locations_borsseleI_df = pd.DataFrame(json.loads(resp.text))\n",
    "locations_borsseleI_df"
   ]
  },
  {
   "cell_type": "markdown",
   "metadata": {},
   "source": [
    "Since no data is available, this dataframe is empty as well."
   ]
  },
  {
   "cell_type": "code",
   "execution_count": null,
   "metadata": {},
   "outputs": [],
   "source": []
  }
 ],
 "metadata": {
  "hide_input": false,
  "kernelspec": {
   "display_name": "Python 3",
   "language": "python",
   "name": "python3"
  },
  "language_info": {
   "codemirror_mode": {
    "name": "ipython",
    "version": 3
   },
   "file_extension": ".py",
   "mimetype": "text/x-python",
   "name": "python",
   "nbconvert_exporter": "python",
   "pygments_lexer": "ipython3",
   "version": "3.7.6"
  },
  "toc": {
   "base_numbering": 1,
   "nav_menu": {},
   "number_sections": true,
   "sideBar": true,
   "skip_h1_title": true,
   "title_cell": "Table of Contents",
   "title_sidebar": "Contents",
   "toc_cell": false,
   "toc_position": {},
   "toc_section_display": true,
   "toc_window_display": true
  }
 },
 "nbformat": 4,
 "nbformat_minor": 4
}
