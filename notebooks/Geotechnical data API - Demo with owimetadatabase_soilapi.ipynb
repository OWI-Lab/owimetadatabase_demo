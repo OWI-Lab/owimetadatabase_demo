{
 "cells": [
  {
   "cell_type": "markdown",
   "metadata": {},
   "source": [
    "# Geotechnical data API - Demo with ``owimetadatabase_soilapi``\n",
    "\n",
    "This notebook demonstrates how the soildata app of ```owimetadatabase``` can be used to retrieve geotechnical data through the API.\n",
    "\n",
    "To facilitate interaction with the database, the Python package ``owimetadatabase_api`` was developed which allows interaction with the database without having to form the HTTP requests. The package simplifies the interaction to the definition of a number of verbose arguments. The data retrieval is performed in the background through the ``requests`` package.\n",
    "\n",
    "The ``owimetadatabase_api`` package is open-source and can be downloaded or cloned from https://github.com/OWI-Lab/owimetadatabase_soilapi."
   ]
  },
  {
   "cell_type": "markdown",
   "metadata": {},
   "source": [
    "## Library imports\n",
    "\n",
    "We need to import a few essential libraries first:\n",
    "\n",
    "   - ```pandas``` for manipulation of tabular data\n",
    "   - ```owimetadatabase_api``` to interact with the owimetadatabase API\n",
    "   - ```json``` to handle the JSON data returned by the API\n",
    "   - ```os``` to retrieve environment variables\n",
    "   - ```plotly``` for plotting data"
   ]
  },
  {
   "cell_type": "code",
   "execution_count": null,
   "metadata": {},
   "outputs": [],
   "source": [
    "import pandas as pd\n",
    "pd.options.display.max_columns = 200\n",
    "pd.options.display.max_rows = 1000\n",
    "from owimetadatabase_soilapi.soil.io import SoilAPI, SOIL_URL_PREFIX\n",
    "import json\n",
    "import os\n",
    "import plotly.express as px"
   ]
  },
  {
   "cell_type": "markdown",
   "metadata": {},
   "source": [
    "For geotechnical data manipulation, the ```groundhog``` library is used. The modules for soil profiles and PCPT testing are loaded."
   ]
  },
  {
   "cell_type": "code",
   "execution_count": null,
   "metadata": {},
   "outputs": [],
   "source": [
    "from groundhog.general import soilprofile\n",
    "from groundhog.siteinvestigation.insitutests.pcpt_processing import PCPTProcessing"
   ]
  },
  {
   "cell_type": "markdown",
   "metadata": {},
   "source": [
    "## API access setup\n",
    "\n",
    "### Authentication\n",
    "\n",
    "The API is only accessible for authenticated users. To get a user account, send an email to bruno.stuyts@vub.be with your name, affiliation and use case.\n",
    "\n",
    "Users will receive an API token which needs to be stored as the environment variable ```OWIMETA_TOKEN```. We can check that the environment variable is not empty. In case of problems, the try refreshing the environment variables before running Jupyter. Alternatively, you can just assign the value of your token to ```TOKEN``` (not recommended for security reasons)."
   ]
  },
  {
   "cell_type": "code",
   "execution_count": null,
   "metadata": {},
   "outputs": [],
   "source": [
    "TOKEN = os.getenv('OWIMETA_TOKEN')\n",
    "TOKEN"
   ]
  },
  {
   "cell_type": "markdown",
   "metadata": {},
   "source": [
    "We can set up the header of the API requests as follows:"
   ]
  },
  {
   "cell_type": "code",
   "execution_count": null,
   "metadata": {},
   "outputs": [],
   "source": [
    "head = {'Authorization': 'Token %s' % (TOKEN)}"
   ]
  },
  {
   "cell_type": "markdown",
   "metadata": {},
   "source": [
    "With this header, we can authenticate all requests. We will set up the connection to the soil data API by creating an instance of the ``SoilAPI`` class."
   ]
  },
  {
   "cell_type": "code",
   "execution_count": null,
   "metadata": {},
   "outputs": [],
   "source": [
    "soil_api = SoilAPI(api_root=SOIL_URL_PREFIX, header=head)"
   ]
  },
  {
   "cell_type": "markdown",
   "metadata": {},
   "source": [
    "The ``soil_api`` object can be used for all further interaction with the API."
   ]
  },
  {
   "cell_type": "markdown",
   "metadata": {},
   "source": [
    "## Survey campaigns\n",
    "\n",
    "Retrieving which survey campaigns happened on a project is done with the ``get_surveycampaigns`` method. The ```projectsite``` argument allows filtering based on project site. Here, we can retrieve the geotechnical surveys performed at the Borssele I site."
   ]
  },
  {
   "cell_type": "code",
   "execution_count": null,
   "metadata": {},
   "outputs": [],
   "source": [
    "campaigns = soil_api.get_surveycampaigns(projectsite=\"Borssele I\")['data']\n",
    "campaigns"
   ]
  },
  {
   "cell_type": "markdown",
   "metadata": {},
   "source": [
    "We can also retrieve a single survey campaign using the ``get_surveycampaign_detail``. As an example, the Borehole investigation campaign is retrieved."
   ]
  },
  {
   "cell_type": "code",
   "execution_count": null,
   "metadata": {},
   "outputs": [],
   "source": [
    "soil_api.get_surveycampaign_detail(projectsite=\"Borssele I\", campaign=\"Borehole investigation\")['data']"
   ]
  },
  {
   "cell_type": "markdown",
   "metadata": {},
   "source": [
    "## Borehole locations\n",
    "\n",
    "Determining where the boreholes are located is an essential step in determining the geotechnical data coverage. This data can be retrieved using the ```get_testlocations``` method. Filtering per project site and survey campaign is possible."
   ]
  },
  {
   "cell_type": "code",
   "execution_count": null,
   "metadata": {},
   "outputs": [],
   "source": [
    "borehole_investigation_locations = soil_api.get_testlocations(\n",
    "    projectsite=\"Borssele I\", campaign=\"Borehole investigation\")['data']\n",
    "borehole_investigation_locations"
   ]
  },
  {
   "cell_type": "markdown",
   "metadata": {},
   "source": [
    "The geographical position of these borehole locations can be visualised using the ``plot_testlocations`` method."
   ]
  },
  {
   "cell_type": "code",
   "execution_count": null,
   "metadata": {},
   "outputs": [],
   "source": [
    "soil_api.plot_testlocations(projectsite=\"Borssele I\", campaign=\"Borehole investigation\")"
   ]
  },
  {
   "cell_type": "markdown",
   "metadata": {},
   "source": [
    "An method (```get_closest_testlocation```) for retrieving test locations in the vicinity of a central point is also available. We can retrieve the test locations in a radius of 1km around a point with given latitude and longitude."
   ]
  },
  {
   "cell_type": "code",
   "execution_count": null,
   "metadata": {},
   "outputs": [],
   "source": [
    "soil_api.get_closest_testlocation(latitude=51.72, longitude=3.08, radius=1)['data']"
   ]
  },
  {
   "cell_type": "markdown",
   "metadata": {},
   "source": [
    "We can see that a geotechnical test was also performed in the vicinity of the tested location during the seafloor CPT investigation."
   ]
  },
  {
   "cell_type": "markdown",
   "metadata": {},
   "source": [
    "Furthermore, test locations in the vicinity of a profile line can be retrieved (``get_testlocations_profile`` method). We need to specify latitude and longitude of the start and end point and the width of the search band (in meters). We can create a profile from location BH-WFS1-2A to location BH-WFS1-6 (NW-SE profile) with a 500m search band on either side of the profile line."
   ]
  },
  {
   "cell_type": "code",
   "execution_count": null,
   "metadata": {},
   "outputs": [],
   "source": [
    "profile_locations = soil_api.get_testlocations_profile(lat1=51.74374, lon1=3.040028, lat2=51.70409, lon2=3.122349, band=500)"
   ]
  },
  {
   "cell_type": "markdown",
   "metadata": {},
   "source": [
    "We can also plot these locations. Their position along the profile is obvious."
   ]
  },
  {
   "cell_type": "code",
   "execution_count": null,
   "metadata": {},
   "outputs": [],
   "source": [
    "fig = px.scatter_mapbox(profile_locations, lat='northing', lon='easting', hover_name='title',\n",
    "    hover_data=['title'], zoom=10, height=500)\n",
    "fig.update_layout(mapbox_style='open-street-map')\n",
    "fig.show()"
   ]
  },
  {
   "cell_type": "markdown",
   "metadata": {},
   "source": [
    "## In-situ test data\n",
    "\n",
    "In-situ testing returns valuable data on the geotechnical conditions at a site and in-situ data is stored in ```owimetadatabase``` in unstructured JSON fields to allow rapid retrieval of relevant data. The data has been uploaded using a standard format for common column names (e.g. ```'z [m]'``` for depth below mudline, ```'qc [MPa]'``` for cone tip resistance, ...). This allows rapid processing of the data once retrieved from the database.\n",
    "\n",
    "### In-situ test types\n",
    "\n",
    "We first need to know which in-situ test types exist in the database. The method ``get_insitutesttypes`` exposes this information."
   ]
  },
  {
   "cell_type": "code",
   "execution_count": null,
   "metadata": {},
   "outputs": [],
   "source": [
    "soil_api.get_insitutesttypes()['data']"
   ]
  },
  {
   "cell_type": "markdown",
   "metadata": {},
   "source": [
    "### In-situ test summary data\n",
    "\n",
    "Retrieving full data can make the HTTP requests time out if data is requested for a large number of in-situ tests. To still allow metadata on the in-situ tests to be retrieved, the method ``get_insitutests`` is available. This only retrieves the metadata and not the detailed test results. A listing of all seabed can be retrieved for example. Method arguments can be used for filtering."
   ]
  },
  {
   "cell_type": "code",
   "execution_count": null,
   "metadata": {},
   "outputs": [],
   "source": [
    "borssele_seabed_cpts = soil_api.get_insitutests(projectsite='Borssele I', testtype='Seabed PCPT')['data']\n",
    "borssele_seabed_cpts.head()"
   ]
  },
  {
   "cell_type": "markdown",
   "metadata": {},
   "source": [
    "### In-situ test detailed data\n",
    "\n",
    "#### CPT data\n",
    "\n",
    "To retrieve the detailed test data for CPTs, the method ``get_cpttest_detail`` can be used. To prevent timeouts, a separate call can be made for each location. For example, retrieving the downhole CPT data for location BH-WFS1-2A happens as follows. The ``'cpt'`` dictionary entry contains the ``groundhog`` ``PCPTProcessing`` object."
   ]
  },
  {
   "cell_type": "code",
   "execution_count": null,
   "metadata": {},
   "outputs": [],
   "source": [
    "bhwfs12a_cpt = soil_api.get_cpttest_detail(\n",
    "    projectsite='Borssele I', location=\"BH-WFS1-2A\", testtype=\"Downhole PCPT\")['cpt']"
   ]
  },
  {
   "cell_type": "markdown",
   "metadata": {},
   "source": [
    "This CPT data is loaded into a ```groundhog``` ```PCPTProcessing``` object for further processing:"
   ]
  },
  {
   "cell_type": "markdown",
   "metadata": {},
   "source": [
    "The CPT data can be plotted:"
   ]
  },
  {
   "cell_type": "code",
   "execution_count": null,
   "metadata": {},
   "outputs": [],
   "source": [
    "bhwfs12a_cpt.plot_raw_pcpt(u2_range=(-0.5, 2.5), u2_tick=0.5)"
   ]
  },
  {
   "cell_type": "markdown",
   "metadata": {},
   "source": [
    "#### Other in-situ tests\n",
    "\n",
    "Data from other in-situ test types can be retrieved in a similar fashion with the ``get_insitutest_detail`` method. The data is contained in the ``'rawdata'`` dictionary element. This data can be used in further processing."
   ]
  },
  {
   "cell_type": "code",
   "execution_count": null,
   "metadata": {},
   "outputs": [],
   "source": [
    "bhwfs1_1_spcpt = soil_api.get_insitutest_detail(projectsite='Borssele I', location= 'BH-WFS1-1', testtype=\"S-PCPT\")['rawdata']\n",
    "bhwfs1_1_spcpt.head()"
   ]
  },
  {
   "cell_type": "markdown",
   "metadata": {},
   "source": [
    "### Batch lab test data\n",
    "\n",
    "Batch lab test data is laboratory test data carried out in bulk, often on-board the site investigation vessel. The available test types can be retrieved with the ``get_batchlabtesttypes`` method."
   ]
  },
  {
   "cell_type": "code",
   "execution_count": null,
   "metadata": {},
   "outputs": [],
   "source": [
    "soil_api.get_batchlabtesttypes()['data']"
   ]
  },
  {
   "cell_type": "markdown",
   "metadata": {},
   "source": [
    "We can retrieve either summary (``get_batchlabtests`` method) or detailed (``get_batchlabtest_detail``) data. As an example, we can retrieve all water batch lab tests for the Borssele I offshore wind farm and then load the test data for location BH-WFS1-2A."
   ]
  },
  {
   "cell_type": "code",
   "execution_count": null,
   "metadata": {},
   "outputs": [],
   "source": [
    "wc_summary = soil_api.get_batchlabtests(\n",
    "    projectsite=\"Borssele I\", testtype=\"Water content\")['data']\n",
    "wc_summary"
   ]
  },
  {
   "cell_type": "code",
   "execution_count": null,
   "metadata": {},
   "outputs": [],
   "source": [
    "wc_bhwfs1_2a = soil_api.get_batchlabtest_detail(\n",
    "    projectsite='Borssele I', location=\"BH-WFS1-2A\", testtype=\"Water content\")['rawdata']\n",
    "wc_bhwfs1_2a.head()"
   ]
  },
  {
   "cell_type": "markdown",
   "metadata": {},
   "source": [
    "## Sample test data\n",
    "\n",
    "Data from advanced laboratory tests is stored in the database in the ```sampletest``` table. The API can also be used to access this data.\n",
    "\n",
    "First, we can retrieve a listing of the samples for a specific borehole in a project using the method ``get_geotechnicalsamples``. Often, only the samples with advanced testing performed on them are included."
   ]
  },
  {
   "cell_type": "code",
   "execution_count": null,
   "metadata": {},
   "outputs": [],
   "source": [
    "samples_bh_wfs1_2a = soil_api.get_geotechnicalsamples(projectsite='Borssele I', location='BH-WFS1-2A')['data']\n",
    "samples_bh_wfs1_2a.head()"
   ]
  },
  {
   "cell_type": "markdown",
   "metadata": {},
   "source": [
    "The sample test types can be retrieved using the ``get_geotechnicalsampletypes`` method."
   ]
  },
  {
   "cell_type": "code",
   "execution_count": null,
   "metadata": {},
   "outputs": [],
   "source": [
    "soil_api.get_geotechnicalsampletypes()['data']"
   ]
  },
  {
   "cell_type": "markdown",
   "metadata": {},
   "source": [
    "The available sample test types can be retrieved using the ``get_sampletesttypes`` method."
   ]
  },
  {
   "cell_type": "code",
   "execution_count": null,
   "metadata": {},
   "outputs": [],
   "source": [
    "soil_api.get_sampletesttypes()['data']"
   ]
  },
  {
   "cell_type": "markdown",
   "metadata": {},
   "source": [
    "Detailed test data can be retrieved when the borehole, locations, sample and testtype is known. Note that multiple tests of the same type can happen on one sample. In this case, the test title will need to be used to select a single test.\n",
    "\n",
    "As an example, we can retrieve the bender element test results on sample W18. First we use the method ``get_sampletests`` to retrieve all bender element tests on this sample:"
   ]
  },
  {
   "cell_type": "code",
   "execution_count": null,
   "metadata": {},
   "outputs": [],
   "source": [
    "soil_api.get_sampletests(projectsite=\"Borssele I\", location='BH-WFS1-1', sample=\"W18\", testtype=\"Bender element\")['data']"
   ]
  },
  {
   "cell_type": "markdown",
   "metadata": {},
   "source": [
    "There is only one bender element test, so the data can be retrieved with the ``"
   ]
  },
  {
   "cell_type": "code",
   "execution_count": null,
   "metadata": {},
   "outputs": [],
   "source": [
    "benderelement_W18_df = soil_api.get_sampletest_detail(\n",
    "    projectsite=\"Borssele I\", location='BH-WFS1-1', sample=\"W18\", testtype=\"Bender element\", sampletest=\"CIUc+BE\")['rawdata']\n",
    "benderelement_W18_df"
   ]
  },
  {
   "cell_type": "markdown",
   "metadata": {},
   "source": [
    "The measured value of small-strain shear modulus $ G_{max} $ can be retrieved as follows. This is the value after the isotropic consolidation stage."
   ]
  },
  {
   "cell_type": "code",
   "execution_count": null,
   "metadata": {},
   "outputs": [],
   "source": [
    "benderelement_W18_df.iloc[0]['Gmax selected [MPa]']"
   ]
  },
  {
   "cell_type": "markdown",
   "metadata": {},
   "source": [
    "## Soil profiles\n",
    "\n",
    "Soil profile retrieval is relatively straightforward using the API. To prevent timeout API requests, a ``get_soilprofiles`` method and a ``get_soilprofile_detail`` method are provided for metadata-only and full data retrieval respectively.\n",
    "\n",
    "First, we can retrieve the metadata for all soil profiles at the Borssele I site:"
   ]
  },
  {
   "cell_type": "code",
   "execution_count": null,
   "metadata": {},
   "outputs": [],
   "source": [
    "soilprofiles = soil_api.get_soilprofiles(projectsite='Borssele I')['data']\n",
    "soilprofiles.head()"
   ]
  },
  {
   "cell_type": "markdown",
   "metadata": {},
   "source": [
    "We can create a soil profile for the BH-WFS1-2A location using the ``get_soilprofile_detail`` method. A dictionary is returned in which the ``'soilprofile'`` element is a ``groundhog`` ``SoilProfile`` object."
   ]
  },
  {
   "cell_type": "code",
   "execution_count": null,
   "metadata": {},
   "outputs": [],
   "source": [
    "profile_bh_wfs1_2a = soil_api.get_soilprofile_detail(\n",
    "    projectsite=\"Borssele I\", location=\"BH-WFS1-2A\", soilprofile='Inferred layering')['soilprofile']\n",
    "profile_bh_wfs1_2a"
   ]
  },
  {
   "cell_type": "markdown",
   "metadata": {},
   "source": [
    "We can plot a mini-log of this profile. We need to define a mapping for the soil type:"
   ]
  },
  {
   "cell_type": "code",
   "execution_count": null,
   "metadata": {},
   "outputs": [],
   "source": [
    "soiltypecolors = {\n",
    "    \"SAND\": 'yellow',\n",
    "    \"CLAY\": 'brown',\n",
    "    \"Clayey SAND\": 'orange',\n",
    "    \"Silty SAND\": '#fcba03'\n",
    "}\n",
    "\n",
    "bhwfs12a_minilog = profile_bh_wfs1_2a.plot_profile(parameters=((),), fillcolordict=soiltypecolors)"
   ]
  },
  {
   "cell_type": "markdown",
   "metadata": {},
   "source": [
    "This soil profile can also be used for plotting of other properties using the ``LogPlot`` from ``groundhog``."
   ]
  },
  {
   "cell_type": "code",
   "execution_count": null,
   "metadata": {},
   "outputs": [],
   "source": [
    "from groundhog.general.plotting import LogPlot"
   ]
  },
  {
   "cell_type": "markdown",
   "metadata": {},
   "source": [
    "Based on all data sources retrieved above, we can create a plot combining cone tip resistance, water content and shear wave velocity. Note that since we have a downhole CPT, we need to plot each push separately. The CPT data has a ``'Push'`` column which contains the push number. We can loop over all individual pushes and plot a trace for each one.\n",
    "\n",
    "Other plotting options can be fine-tuned using the Plotly plotting syntax (https://plotly.com/python/creating-and-updating-figures/)."
   ]
  },
  {
   "cell_type": "code",
   "execution_count": null,
   "metadata": {},
   "outputs": [],
   "source": [
    "combined_plot = LogPlot(profile_bh_wfs1_2a, no_panels=3, fillcolordict=soiltypecolors)\n",
    "for _push in bhwfs12a_cpt.data['Push'].unique():\n",
    "    try:\n",
    "        _push_data =  bhwfs12a_cpt.data[bhwfs12a_cpt.data['Push'] == _push]\n",
    "        combined_plot.add_trace(\n",
    "            x=_push_data['qc [MPa]'],\n",
    "            z=_push_data['z [m]'],\n",
    "            line=dict(color='black'),\n",
    "            name='Cone resistance',\n",
    "            showlegend=False,\n",
    "            panel_no=1)\n",
    "    except:\n",
    "        pass\n",
    "combined_plot.add_trace(\n",
    "    x=wc_bhwfs1_2a['Water content [%]'],\n",
    "    z=wc_bhwfs1_2a['Depth [m]'],\n",
    "    name='Water content',\n",
    "    marker_symbol='circle-open',\n",
    "    mode='markers',\n",
    "    showlegend=False,\n",
    "    panel_no=2)\n",
    "combined_plot.add_trace(\n",
    "    x=bhwfs1_1_spcpt['Vs [m/s]'],\n",
    "    z=bhwfs1_1_spcpt['z [m]'],\n",
    "    name='Water content',\n",
    "    marker_symbol='square-open',\n",
    "    mode='markers',\n",
    "    showlegend=False,\n",
    "    panel_no=3)\n",
    "\n",
    "combined_plot.set_xaxis(title=r'$ q_c \\ \\text{[MPa]} $', panel_no=1)\n",
    "combined_plot.set_xaxis(title=r'$ w \\ \\text{[%]} $', panel_no=2, range=(0, 50))\n",
    "combined_plot.set_xaxis(title=r'$ V_s \\ \\text{[m/s]} $', panel_no=3, range=(0, 500))\n",
    "combined_plot.set_zaxis(title=r'$ z \\ \\text{[m]} $', range=(80, 0))\n",
    "combined_plot.show()"
   ]
  },
  {
   "cell_type": "code",
   "execution_count": null,
   "metadata": {},
   "outputs": [],
   "source": []
  }
 ],
 "metadata": {
  "hide_input": false,
  "kernelspec": {
   "display_name": "Python 3 (ipykernel)",
   "language": "python",
   "name": "python3"
  },
  "language_info": {
   "codemirror_mode": {
    "name": "ipython",
    "version": 3
   },
   "file_extension": ".py",
   "mimetype": "text/x-python",
   "name": "python",
   "nbconvert_exporter": "python",
   "pygments_lexer": "ipython3",
   "version": "3.8.15"
  },
  "toc": {
   "base_numbering": 1,
   "nav_menu": {},
   "number_sections": true,
   "sideBar": true,
   "skip_h1_title": true,
   "title_cell": "Table of Contents",
   "title_sidebar": "Contents",
   "toc_cell": false,
   "toc_position": {},
   "toc_section_display": true,
   "toc_window_display": true
  }
 },
 "nbformat": 4,
 "nbformat_minor": 4
}
