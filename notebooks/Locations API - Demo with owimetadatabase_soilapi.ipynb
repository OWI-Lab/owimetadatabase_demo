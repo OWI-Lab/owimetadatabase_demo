{
 "cells": [
  {
   "cell_type": "markdown",
   "metadata": {},
   "source": [
    "# Locations API - Demo\n",
    "\n",
    "This notebook demonstrates how the locations app of ```owimetadatabase``` can be used to retrieve project and asset location data through the API.\n",
    "\n",
    "To facilitate interaction with the database, the Python package ``owimetadatabase_api`` was developed which allows interaction with the database without having to form the HTTP requests. The package simplifies the interaction to the definition of a number of verbose arguments. The data retrieval is performed in the background through the ``requests`` package.\n",
    "\n",
    "The ``owimetadatabase_api`` package is open-source and can be downloaded or cloned from https://github.com/OWI-Lab/owimetadatabase_soilapi."
   ]
  },
  {
   "cell_type": "markdown",
   "metadata": {},
   "source": [
    "## Library imports\n",
    "\n",
    "We need to import a few essential libraries first:\n",
    "\n",
    "   - ```pandas``` for manipulation of tabular data\n",
    "   - ```owimetadatabase_api``` to send and receive HTTP requests\n",
    "   - ```json``` to handle the JSON data returned by the API\n",
    "   - ```os``` to retrieve environment variables"
   ]
  },
  {
   "cell_type": "code",
   "execution_count": null,
   "metadata": {},
   "outputs": [],
   "source": [
    "import pandas as pd\n",
    "from owimetadatabase_soilapi.locations.io import LocationsAPI, LOCATION_URL_PREFIX\n",
    "import json\n",
    "import os"
   ]
  },
  {
   "cell_type": "markdown",
   "metadata": {},
   "source": [
    "## API access setup\n",
    "\n",
    "### Authentication\n",
    "\n",
    "The API is only accessible for authenticated users. To get a user account, send an email to bruno.stuyts@vub.be with your name, affiliation and use case.\n",
    "\n",
    "Users will receive an API token which needs to be stored as the environment variable ```OWIMETA_TOKEN```. We can check that the environment variable is not empty. In case of problems, the try refreshing the environment variables before running Jupyter. Alternatively, you can just assign the value of your token to ```TOKEN``` (not recommended for security reasons)."
   ]
  },
  {
   "cell_type": "code",
   "execution_count": null,
   "metadata": {},
   "outputs": [],
   "source": [
    "TOKEN = os.getenv('OWIMETA_TOKEN')\n",
    "TOKEN"
   ]
  },
  {
   "cell_type": "markdown",
   "metadata": {},
   "source": [
    "We can set up the header of the API requests as follows:"
   ]
  },
  {
   "cell_type": "code",
   "execution_count": null,
   "metadata": {},
   "outputs": [],
   "source": [
    "head = {'Authorization': 'Token %s' % (TOKEN)}"
   ]
  },
  {
   "cell_type": "markdown",
   "metadata": {},
   "source": [
    "With this header, we can authenticate all requests. We will set up the connection to the Locations API by creating an instance of the ``LocationsAPI`` class."
   ]
  },
  {
   "cell_type": "code",
   "execution_count": null,
   "metadata": {},
   "outputs": [],
   "source": [
    "locations_api = LocationsAPI(api_root=LOCATION_URL_PREFIX, header=head)"
   ]
  },
  {
   "cell_type": "markdown",
   "metadata": {},
   "source": [
    "The ``locations_api`` object can be used for all further interaction with the API."
   ]
  },
  {
   "cell_type": "markdown",
   "metadata": {},
   "source": [
    "## Projects\n",
    "\n",
    "We can retrieve the list of projects by invoking the ``get_projectsites`` method of ``locations_api``. A dictionary is returned where the ``'data'`` element is a Pandas dataframe with the details of all projects which the user can see."
   ]
  },
  {
   "cell_type": "code",
   "execution_count": null,
   "metadata": {},
   "outputs": [],
   "source": [
    "projects = locations_api.get_projectsites()['data']\n",
    "projects"
   ]
  },
  {
   "cell_type": "markdown",
   "metadata": {},
   "source": [
    "The resulting dataframe can be used for further filtering, e.g. to retrieve all projects in the Borssele area:"
   ]
  },
  {
   "cell_type": "code",
   "execution_count": null,
   "metadata": {},
   "outputs": [],
   "source": [
    "projects[projects['title'].str.contains('Borssele')]"
   ]
  },
  {
   "cell_type": "markdown",
   "metadata": {},
   "source": [
    "We can also retrieve a single project site using the ``get_projectsite_detail``. The method takes the name of the project site (``'Borssele I``) as the ``projectsite`` argument."
   ]
  },
  {
   "cell_type": "code",
   "execution_count": null,
   "metadata": {},
   "outputs": [],
   "source": [
    "locations_api.get_projectsite_detail(projectsite='Borssele I')['data']"
   ]
  },
  {
   "cell_type": "markdown",
   "metadata": {},
   "source": [
    "## Asset locations\n",
    "\n",
    "To retrieve the locations of offshore wind turbine foundations, the ``get_assetlocations`` method can be used. As an example, we can retrieve the positions of the offshore wind turbine foundations in the Prinses Amalia offshore wind farm. The method agian returns a dictionary of which the ``'data'`` element contains a Pandas dataframe with the location data."
   ]
  },
  {
   "cell_type": "code",
   "execution_count": null,
   "metadata": {},
   "outputs": [],
   "source": [
    "prinses_amalia_foundations = locations_api.get_assetlocations(projectsite=\"Prinses Amalia\")['data']\n",
    "prinses_amalia_foundations"
   ]
  },
  {
   "cell_type": "markdown",
   "metadata": {},
   "source": [
    "Details for a single asset location are retrieved as follows:"
   ]
  },
  {
   "cell_type": "code",
   "execution_count": null,
   "metadata": {},
   "outputs": [],
   "source": [
    "locations_api.get_assetlocation_detail(projectsite=\"Prinses Amalia\", assetlocation=\"NW_100\")['data']"
   ]
  },
  {
   "cell_type": "markdown",
   "metadata": {},
   "source": [
    "Plotting locations can be much more instructive. The method ``plot_assetlocations`` is available to do this with ease."
   ]
  },
  {
   "cell_type": "code",
   "execution_count": null,
   "metadata": {},
   "outputs": [],
   "source": [
    "locations_api.plot_assetlocations(projectsite='Prinses Amalia')"
   ]
  },
  {
   "cell_type": "code",
   "execution_count": null,
   "metadata": {},
   "outputs": [],
   "source": []
  }
 ],
 "metadata": {
  "hide_input": false,
  "kernelspec": {
   "display_name": "Python 3 (ipykernel)",
   "language": "python",
   "name": "python3"
  },
  "language_info": {
   "codemirror_mode": {
    "name": "ipython",
    "version": 3
   },
   "file_extension": ".py",
   "mimetype": "text/x-python",
   "name": "python",
   "nbconvert_exporter": "python",
   "pygments_lexer": "ipython3",
   "version": "3.8.15"
  },
  "toc": {
   "base_numbering": 1,
   "nav_menu": {},
   "number_sections": true,
   "sideBar": true,
   "skip_h1_title": true,
   "title_cell": "Table of Contents",
   "title_sidebar": "Contents",
   "toc_cell": false,
   "toc_position": {},
   "toc_section_display": true,
   "toc_window_display": true
  }
 },
 "nbformat": 4,
 "nbformat_minor": 4
}
